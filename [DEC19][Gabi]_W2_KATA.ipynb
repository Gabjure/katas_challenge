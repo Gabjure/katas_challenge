{
 "cells": [
  {
   "cell_type": "markdown",
   "metadata": {},
   "source": [
    "# KATA Week 2 "
   ]
  },
  {
   "cell_type": "markdown",
   "metadata": {},
   "source": [
    "For every good kata idea there seem to be quite a few bad ones!\n",
    "    \n",
    "In this kata you need to check the provided array (x) for good ideas 'good' and bad ideas 'bad'. If there are one or two good ideas, return 'Publish!', if there are more than 2 return 'I smell a series!'. If there are no good ideas, as is often the case, return 'Fail!'."
   ]
  },
  {
   "cell_type": "markdown",
   "metadata": {},
   "source": [
    "Sample test:<br>\n",
    "<br>test.describe(\"Static Cases\")\n",
    "<br>test.assert_equals(well(['bad', 'bad', 'bad']), 'Fail!')\n",
    "<br>test.assert_equals(well(['good', 'bad', 'bad', 'bad', 'bad']), 'Publish!')\n",
    "<br>test.assert_equals(well(['good', 'bad', 'bad', 'bad', 'bad', 'good', 'bad', 'bad', 'good']), 'I smell a series!')\n"
   ]
  },
  {
   "cell_type": "markdown",
   "metadata": {},
   "source": [
    "def well(x):\n",
    "     #code here\n",
    "    return ''"
   ]
  },
  {
   "cell_type": "code",
   "execution_count": 4,
   "metadata": {},
   "outputs": [
    {
     "data": {
      "text/plain": [
       "<function __main__.well(x)>"
      ]
     },
     "execution_count": 4,
     "metadata": {},
     "output_type": "execute_result"
    }
   ],
   "source": [
    "def well(x):\n",
    "    for idead in x:\n",
    "        if (x.count(\"good\") == 1) or (x.count(\"good\") == 2):\n",
    "            return('Publish!')\n",
    "        elif x.count(\"good\") > 2:\n",
    "            return(\"I smell a series!\")\n",
    "        else:\n",
    "            return('Fail!')    \n",
    "well"
   ]
  }
 ],
 "metadata": {
  "kernelspec": {
   "display_name": "Python 3",
   "language": "python",
   "name": "python3"
  },
  "language_info": {
   "codemirror_mode": {
    "name": "ipython",
    "version": 3
   },
   "file_extension": ".py",
   "mimetype": "text/x-python",
   "name": "python",
   "nbconvert_exporter": "python",
   "pygments_lexer": "ipython3",
   "version": "3.7.5"
  }
 },
 "nbformat": 4,
 "nbformat_minor": 2
}
